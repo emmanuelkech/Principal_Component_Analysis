{
 "cells": [
  {
   "cell_type": "code",
   "execution_count": 8,
   "metadata": {},
   "outputs": [
    {
     "data": {
      "text/plain": [
       "(array([44.27202561, 18.97118204]), 97.07602339181285)"
      ]
     },
     "execution_count": 8,
     "metadata": {},
     "output_type": "execute_result"
    }
   ],
   "source": [
    "# Import the necessary modules from scikit-learn\n",
    "from sklearn.datasets import load_breast_cancer  # For loading the breast cancer dataset\n",
    "from sklearn.preprocessing import StandardScaler  # For standardizing the dataset\n",
    "from sklearn.decomposition import PCA  # For performing Principal Component Analysis\n",
    "from sklearn.model_selection import train_test_split  # For splitting the dataset into training and testing sets\n",
    "from sklearn.linear_model import LogisticRegression  # For implementing the logistic regression model\n",
    "from sklearn.metrics import accuracy_score  # For calculating the accuracy of the model\n",
    "\n",
    "# Load the breast cancer dataset from sklearn\n",
    "data = load_breast_cancer()  # `data` is a Bunch object containing the dataset and related information\n",
    "\n",
    "# Separate the features and the target variable\n",
    "X = data.data  # `X` contains the features of the dataset (independent variables)\n",
    "y = data.target  # `y` contains the target variable (dependent variable - malignant or benign)\n",
    "\n",
    "# Standardize the features by removing the mean and scaling to unit variance\n",
    "scaler = StandardScaler()  # Create a StandardScaler object for standardization\n",
    "X_scaled = scaler.fit_transform(X)  # Fit the scaler to the data and transform it\n",
    "\n",
    "# Perform Principal Component Analysis (PCA) to reduce the dataset to 2 principal components\n",
    "pca = PCA(n_components=2)  # Create a PCA object to reduce the dataset to 2 components\n",
    "X_pca = pca.fit_transform(X_scaled)  # Fit the PCA model and apply the dimensionality reduction\n",
    "\n",
    "# Display the explained variance ratio of the two principal components\n",
    "explained_variance_ratio = pca.explained_variance_ratio_  # Store the explained variance ratio of the components\n",
    "\n",
    "# Now we'll implement logistic regression using the 2 PCA components\n",
    "# Split the dataset into training and testing sets\n",
    "X_train, X_test, y_train, y_test = train_test_split(X_pca, y, test_size=0.3, random_state=42)  # 70% training, 30% testing\n",
    "\n",
    "# Train a logistic regression model on the training data\n",
    "log_reg = LogisticRegression()  # Create a LogisticRegression object\n",
    "log_reg.fit(X_train, y_train)  # Fit the logistic regression model to the training data\n",
    "\n",
    "# Predict the labels for the test set\n",
    "y_pred = log_reg.predict(X_test)  # Use the trained model to make predictions on the test data\n",
    "\n",
    "# Calculate the accuracy of the logistic regression model\n",
    "accuracy = accuracy_score(y_test, y_pred)  # Calculate the accuracy of the model by comparing predictions to true labels\n",
    "\n",
    "# Convert the explained variance ratio to percentages\n",
    "explained_variance_ratio_percentage = explained_variance_ratio * 100  # Multiply by 100 to convert to percentage\n",
    "\n",
    "# Convert the accuracy to percentage\n",
    "accuracy_percentage = accuracy * 100  # Multiply by 100 to convert to percentage\n",
    "\n",
    "# Print the explained variance ratio and the accuracy of the logistic regression model in percentage format\n",
    "explained_variance_ratio_percentage, accuracy_percentage \n"
   ]
  }
 ],
 "metadata": {
  "kernelspec": {
   "display_name": "Python 3 (ipykernel)",
   "language": "python",
   "name": "python3"
  },
  "language_info": {
   "codemirror_mode": {
    "name": "ipython",
    "version": 3
   },
   "file_extension": ".py",
   "mimetype": "text/x-python",
   "name": "python",
   "nbconvert_exporter": "python",
   "pygments_lexer": "ipython3",
   "version": "3.12.4"
  }
 },
 "nbformat": 4,
 "nbformat_minor": 4
}
